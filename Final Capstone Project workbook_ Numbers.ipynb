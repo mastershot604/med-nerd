{
 "cells": [
  {
   "cell_type": "markdown",
   "metadata": {},
   "source": [
    "Find PI to the Nth Digit - Enter a number and have the program generate π (pi) up to that many decimal places. Keep a limit to how far the program will go."
   ]
  },
  {
   "cell_type": "code",
   "execution_count": 2,
   "metadata": {},
   "outputs": [
    {
     "data": {
      "text/plain": [
       "3.14"
      ]
     },
     "execution_count": 2,
     "metadata": {},
     "output_type": "execute_result"
    }
   ],
   "source": [
    "import math\n",
    "\n",
    "def generate_pi(N):\n",
    "    return int(math.pi*(10**N))/(10**N)\n",
    "\n",
    "generate_pi(2)"
   ]
  },
  {
   "cell_type": "code",
   "execution_count": 3,
   "metadata": {},
   "outputs": [
    {
     "name": "stdout",
     "output_type": "stream",
     "text": [
      "314159394\n"
     ]
    }
   ],
   "source": [
    "# calculate pi using Chundovsky algorithm\n",
    "import math\n",
    "\n",
    "def pi_chudnovsky(one=1000000):\n",
    "    \"\"\"\n",
    "    Calculate pi using Chudnovsky's series\n",
    "\n",
    "    This calculates it in fixed point, using the value for one passed in\n",
    "    \"\"\"\n",
    "    k = 1\n",
    "    a_k = one\n",
    "    a_sum = one\n",
    "    b_sum = 0\n",
    "    C = 640320\n",
    "    C3_OVER_24 = C**3 // 24\n",
    "    while 1:\n",
    "        a_k *= -(6*k-5)*(2*k-1)*(6*k-1)\n",
    "        a_k //= k*k*k*C3_OVER_24\n",
    "        a_sum += a_k\n",
    "        b_sum += k * a_k\n",
    "        k += 1\n",
    "        if a_k == 0:\n",
    "            break\n",
    "    total = 13591409*a_sum + 545140134*b_sum\n",
    "    pi = (426880*sqrt(10005*one, one)*one) // total\n",
    "    return pi\n",
    "\n",
    "def sqrt(n, one):\n",
    "    \"\"\"\n",
    "    Return the square root of n as a fixed point number with the one\n",
    "    passed in.  It uses a second order Newton-Raphson convergence.  This\n",
    "    doubles the number of significant figures on each iteration.\n",
    "    \"\"\"\n",
    "    # Use floating point arithmetic to make an initial guess\n",
    "    floating_point_precision = 10**16\n",
    "    n_float = float((n * floating_point_precision) // one) / floating_point_precision\n",
    "    x = (int(floating_point_precision * math.sqrt(n_float)) * one) // floating_point_precision\n",
    "    n_one = n * one\n",
    "    while 1:\n",
    "        x_old = x\n",
    "        x = (x + n_one // x) // 2\n",
    "        if x == x_old:\n",
    "            break\n",
    "    return x\n",
    "\n",
    "print(pi_chudnovsky(100000000))"
   ]
  },
  {
   "cell_type": "markdown",
   "metadata": {},
   "source": [
    "Find e to the Nth Digit - Just like the previous problem, but with e instead of π (pi). Enter a number and have the program generate e up to that many decimal places. Keep a limit to how far the program will go."
   ]
  },
  {
   "cell_type": "code",
   "execution_count": 4,
   "metadata": {},
   "outputs": [
    {
     "data": {
      "text/plain": [
       "2.7182"
      ]
     },
     "execution_count": 4,
     "metadata": {},
     "output_type": "execute_result"
    }
   ],
   "source": [
    "def generate_e(N):\n",
    "    return int(math.e*(10**N))/10**N\n",
    "\n",
    "generate_e(4)"
   ]
  },
  {
   "cell_type": "markdown",
   "metadata": {},
   "source": [
    "Fibonacci Sequence - Enter a number and have the program generate the Fibonacci sequence to that number or to the Nth number."
   ]
  },
  {
   "cell_type": "code",
   "execution_count": 5,
   "metadata": {},
   "outputs": [
    {
     "name": "stdout",
     "output_type": "stream",
     "text": [
      "[1, 1, 2, 3, 5, 8, 13, 21, 34]\n"
     ]
    }
   ],
   "source": [
    "def Fibo_sequence(n):\n",
    "    a,b = 1,1\n",
    "    for i in range(n):  \n",
    "        yield a\n",
    "        a,b = b,a+b \n",
    "print([x for x in Fibo_sequence(9)])"
   ]
  },
  {
   "cell_type": "markdown",
   "metadata": {},
   "source": [
    "Prime Factorization - Have the user enter a number and find all Prime Factors (if there are any) and display them."
   ]
  },
  {
   "cell_type": "code",
   "execution_count": 13,
   "metadata": {},
   "outputs": [
    {
     "name": "stdout",
     "output_type": "stream",
     "text": [
      "Insert a number.89\n"
     ]
    },
    {
     "data": {
      "text/plain": [
       "[89]"
      ]
     },
     "execution_count": 13,
     "metadata": {},
     "output_type": "execute_result"
    }
   ],
   "source": [
    "def Prime_fact():\n",
    "    n = int(input('Insert a number.'))\n",
    "    pr = [2]\n",
    "    pr_fc = []\n",
    "    for x in range(2,n+1):\n",
    "        for i in pr:\n",
    "                if  x%i == 0:\n",
    "                    break\n",
    "        else:\n",
    "                pr.append(x)\n",
    "        if n%x == 0 and x in pr:\n",
    "            pr_fc.append(x)     \n",
    "    return pr_fc\n",
    "\n",
    "Prime_fact()\n"
   ]
  },
  {
   "cell_type": "markdown",
   "metadata": {},
   "source": [
    "Next Prime Number - Have the program find prime numbers until the user chooses to stop asking for the next one."
   ]
  },
  {
   "cell_type": "code",
   "execution_count": 19,
   "metadata": {},
   "outputs": [
    {
     "name": "stdout",
     "output_type": "stream",
     "text": [
      "Do you want to find the next prime number?y\n",
      "2\n",
      "Do you want to find the next prime number?y\n",
      "3\n",
      "Do you want to find the next prime number?y\n",
      "5\n",
      "Do you want to find the next prime number?y\n",
      "7\n",
      "Do you want to find the next prime number?y\n",
      "11\n",
      "Do you want to find the next prime number?y\n",
      "13\n",
      "Do you want to find the next prime number?y\n",
      "17\n",
      "Do you want to find the next prime number?y\n",
      "19\n",
      "Do you want to find the next prime number?y\n",
      "23\n",
      "Do you want to find the next prime number?y\n",
      "29\n",
      "Do you want to find the next prime number?y\n",
      "31\n",
      "Do you want to find the next prime number?y\n",
      "37\n",
      "Do you want to find the next prime number?y\n",
      "41\n",
      "Do you want to find the next prime number?y\n",
      "43\n",
      "Do you want to find the next prime number?y\n",
      "47\n",
      "Do you want to find the next prime number?y\n",
      "53\n",
      "Do you want to find the next prime number?yes\n",
      "59\n",
      "Do you want to find the next prime number?yadhoahso\n",
      "61\n",
      "Do you want to find the next prime number?n\n"
     ]
    }
   ],
   "source": [
    "def Find_prime():\n",
    "    pr = [2]\n",
    "    n = 2\n",
    "    while True:\n",
    "        YorN = ' '\n",
    "        while not (YorN[0].lower() == 'y' or YorN[0].lower() == 'n'):\n",
    "            YorN = input('Do you want to find the next prime number?')\n",
    "        if YorN[0].lower() == 'n':\n",
    "            break\n",
    "        # yielding new prime number\n",
    "        while True:\n",
    "            for x in pr:\n",
    "                if  n%x == 0 and n != 2:\n",
    "                    break\n",
    "            else:\n",
    "                pr.append(n)\n",
    "                print(n) \n",
    "                n += 1\n",
    "                break\n",
    "            n += 1\n",
    "Find_prime()"
   ]
  },
  {
   "cell_type": "markdown",
   "metadata": {},
   "source": [
    "Find Cost of Tile to Cover W x H Floor - Calculate the total cost of tile it would take to cover a floor plan of width and height, using a cost entered by the user."
   ]
  },
  {
   "cell_type": "code",
   "execution_count": 6,
   "metadata": {},
   "outputs": [
    {
     "name": "stdout",
     "output_type": "stream",
     "text": [
      "The width of the floor: 3.4\n",
      "you should put an integer: 5\n",
      "The length of the floor: 3\n",
      "The cost of the floor: 2.3414\n",
      "The total cost of tile to cover 5X3 floor is 35.1210\n"
     ]
    }
   ],
   "source": [
    "try:\n",
    "    w = int(input('The width of the floor: '))\n",
    "except:\n",
    "    w = int(input('you should put an integer: '))\n",
    "try:\n",
    "    l = int(input('The length of the floor: '))\n",
    "except:\n",
    "    l = int(input('you should put an integer: '))\n",
    "c = float(input('The cost of the floor: '))\n",
    "\n",
    "print(f'The total cost of tile to cover {w}X{l} floor is {w*l*c:.4f}')"
   ]
  },
  {
   "cell_type": "markdown",
   "metadata": {},
   "source": [
    "Mortgage Calculator - Calculate the monthly payments of a fixed term mortgage over given Nth terms at a given interest rate. Also figure out how long it will take the user to pay back the loan. For added complexity, add an option for users to select the compounding interval (Monthly, Weekly, Daily, Continually)."
   ]
  },
  {
   "cell_type": "code",
   "execution_count": 2,
   "metadata": {},
   "outputs": [
    {
     "name": "stdout",
     "output_type": "stream",
     "text": [
      "9995.989999999998\n",
      "654\n",
      "(12, 6, 19)\n"
     ]
    }
   ],
   "source": [
    "import math\n",
    "class Mortgage():\n",
    "    def __init__(self,loan,rate,pay,interval = 'continuously'):\n",
    "        self.loan = loan\n",
    "        self.rate = rate\n",
    "        self.pay = pay\n",
    "        self.interval = interval\n",
    "        \n",
    "    def calc_terms(self,time):\n",
    "        # time is expected to be tuples (years, months, days)\n",
    "        # returns terms in int\n",
    "        terms = 0\n",
    "        if self.interval == 'continuously':\n",
    "            terms = time[0]\n",
    "        elif self.interval == 'monthly':\n",
    "            terms = time[0]*12 + time[1]\n",
    "        elif self.interval == 'weekly':\n",
    "            terms = int(round(time[0]*52.177457 + time[1]*4.34812141))\n",
    "        elif self.interval == 'daily':\n",
    "            terms = int(round(time[0]*365 + time[1]*30.4368499 + time[2]))\n",
    "        \n",
    "        else:\n",
    "            print('Loan: Wrong interval option given.')\n",
    "        \n",
    "        return terms\n",
    "    \n",
    "    def calc_time(self,terms):\n",
    "        a,b,c = 0,0,0\n",
    "        if self.interval == 'continuously':\n",
    "            a = terms\n",
    "        elif self.interval == 'monthly':\n",
    "            a = terms//12\n",
    "            b = terms%12\n",
    "        elif self.interval == 'weekly':\n",
    "            a = int(terms//52.177457)\n",
    "            b = int((terms-a*52.177457)//4.34812141)\n",
    "            c = round((terms - a*52.177457 - b*4.34812141)*7)\n",
    "        elif self.interval == 'daily':\n",
    "            a = terms//365\n",
    "            b = int((terms - a*365)//30.4368499)\n",
    "            c = round(terms - a*365 - b*30.4368499)        \n",
    "        else:\n",
    "            print('Loan: Wrong interval option given.')\n",
    "        \n",
    "        return (a,b,c)\n",
    "    \n",
    "    def residual_loan(self,terms):\n",
    "        rs_ln = self.loan\n",
    "        for t in range(0,terms):\n",
    "            rs_ln = (rs_ln)*(1+self.rate)-self.pay\n",
    "        return rs_ln\n",
    "    def pay_complete(self):\n",
    "        terms = 1\n",
    "        while True:\n",
    "            rs_ln = self.residual_loan(terms)\n",
    "            if rs_ln <= 0:\n",
    "                return terms\n",
    "                break\n",
    "            else:\n",
    "                terms += 1\n",
    "m = Mortgage(10000,0.005,52,'weekly')\n",
    "print(m.residual_loan(2))\n",
    "print(m.pay_complete())\n",
    "print(m.calc_time(655))"
   ]
  },
  {
   "cell_type": "markdown",
   "metadata": {},
   "source": [
    "Change Return Program - The user enters a cost and then the amount of money given. The program will figure out the change and the number of quarters, dimes, nickels, pennies needed for the change."
   ]
  },
  {
   "cell_type": "code",
   "execution_count": 9,
   "metadata": {},
   "outputs": [
    {
     "name": "stdout",
     "output_type": "stream",
     "text": [
      "Enter the cost: 78\n",
      "Enter the pay: 89.67\n",
      "The change is 11 dollars, 2.0 quarters, 1.0 dimes, 1.0 nickels, and 2 pennies.\n"
     ]
    }
   ],
   "source": [
    "import math\n",
    "def change_calculator():\n",
    "    try:\n",
    "        cost = float(input('Enter the cost: '))\n",
    "    except:\n",
    "        cost = float(input('You should give a number. Enter the cost: '))\n",
    "    try:\n",
    "        pay = float(input('Enter the pay: '))\n",
    "    except:\n",
    "        pay = float(input('You should give a number. Enter the pay: '))\n",
    "        \n",
    "    change = pay - cost\n",
    "    do,qu,di,ni,pe = 0,0,0,0,0\n",
    "    do = math.floor(change)\n",
    "    qu = math.fmod(change,1)//0.25\n",
    "    di = math.fmod(change,0.25)//0.1\n",
    "    ni = (change - do - qu*0.25 - di*0.1)//0.05\n",
    "    pe = int(math.fmod(change,0.05)//0.01)\n",
    "    \n",
    "    return (do,qu,di,ni,pe)\n",
    "\n",
    "ch = change_calculator()\n",
    "print(f'The change is {ch[0]} dollars, {ch[1]} quarters, {ch[2]} dimes, {ch[3]} nickels, and {ch[4]} pennies.')"
   ]
  },
  {
   "cell_type": "markdown",
   "metadata": {},
   "source": [
    "Binary to Decimal and Back Converter - Develop a converter to convert a decimal number to binary or a binary number to its decimal equivalent."
   ]
  },
  {
   "cell_type": "code",
   "execution_count": 19,
   "metadata": {},
   "outputs": [
    {
     "name": "stdout",
     "output_type": "stream",
     "text": [
      "377\n",
      "101111001\n"
     ]
    }
   ],
   "source": [
    "def bin_to_dec(n):\n",
    "    #Calculate total value:\n",
    "    t_value = 0\n",
    "    bin_str = str(n)\n",
    "    for digit in range(len(bin_str)):\n",
    "        t_value += int(bin_str[digit])*(2**(len(bin_str)-1-digit))\n",
    "    return t_value\n",
    "\n",
    "def dec_to_bin(n):\n",
    "    x = 0\n",
    "    value = n\n",
    "    bin_str = ''\n",
    "    while True:\n",
    "        if 2**x < n < 2**(x+1):\n",
    "            break\n",
    "        x+=1\n",
    "    for i in range(x,-1,-1):\n",
    "        bin_str += str(value//2**i)\n",
    "        value -= (value//2**i)*2**i\n",
    "    return bin_str\n",
    "    \n",
    "            \n",
    "n = bin_to_dec(101111001)\n",
    "print(n)\n",
    "s = dec_to_bin(n)\n",
    "print(s)"
   ]
  },
  {
   "cell_type": "markdown",
   "metadata": {},
   "source": [
    "Calculator - A simple calculator to do basic operators. Make it a scientific calculator for added complexity."
   ]
  },
  {
   "cell_type": "code",
   "execution_count": 21,
   "metadata": {},
   "outputs": [],
   "source": [
    "import math\n",
    "\n",
    "#放棄\n",
    "class Calculator():\n",
    "    # reference of microsoft calculator\n",
    "    def __init__(self):\n",
    "        self.op_str = input('Please enter your calculation')\n",
    "        self.op_lst = []\n",
    "    \n",
    "    def op_sequence(self):\n",
    "        # eg. 'cos((3+4*5)/6^7+log(8))*9!'\n",
    "        # ['3','+','4*5'] - 1, cos() -2\n",
    "        pass\n",
    "        \n",
    "    \n",
    "    def simple_op(self):\n",
    "        # includes +,-,*,/,^,log\n",
    "        # negative integer requires ()\n",
    "        pass\n",
    "    \n",
    "    def tri_fc(self):\n",
    "        pass\n",
    "    \n",
    "    def factorial(self):\n",
    "        pass"
   ]
  },
  {
   "cell_type": "markdown",
   "metadata": {},
   "source": [
    "Alarm Clock - A simple clock where it plays a sound after X number of minutes/seconds or at a particular time."
   ]
  },
  {
   "cell_type": "code",
   "execution_count": 3,
   "metadata": {},
   "outputs": [
    {
     "name": "stdout",
     "output_type": "stream",
     "text": [
      "83.3392337\n",
      "89.339286\n",
      "109.3433102\n"
     ]
    }
   ],
   "source": [
    "#Playsound module from Pypi\n",
    "#from playsound import playsound\n",
    "#playsound(r'C:\\Users\\andyt\\Desktop\\Muse_Uprising.mp3')\n",
    "\n",
    "import time\n",
    "import vlc\n",
    "def func():\n",
    "    a = time.perf_counter()\n",
    "    print(a)\n",
    "    time.sleep(6)\n",
    "    b = time.perf_counter()\n",
    "    print(b)\n",
    "    aud = vlc.MediaPlayer(r'C:\\Users\\andyt\\Desktop\\Muse_Uprising.mp3')\n",
    "    aud.play()\n",
    "    # playsound(r'C:\\Users\\andyt\\Desktop\\Muse_Uprising.mp3')\n",
    "    time.sleep(20)\n",
    "    c = time.perf_counter()\n",
    "    print(c)\n",
    "    aud.stop()\n",
    "\n",
    "func()\n"
   ]
  },
  {
   "cell_type": "markdown",
   "metadata": {},
   "source": [
    "Credit Card Validator - Takes in a credit card number from a common credit card vendor (Visa, MasterCard, American Express, Discoverer) and validates it to make sure that it is a valid number (look into how credit cards use a checksum)."
   ]
  },
  {
   "cell_type": "code",
   "execution_count": 11,
   "metadata": {},
   "outputs": [
    {
     "name": "stdout",
     "output_type": "stream",
     "text": [
      "Please insert credit card number: 4885000358\n",
      "[4, 8, 8, 5, 0, 0, 0, 3, 5, 8]\n",
      "[8, 8, 7, 5, 0, 0, 0, 3, 1, 8]\n"
     ]
    },
    {
     "data": {
      "text/plain": [
       "True"
      ]
     },
     "execution_count": 11,
     "metadata": {},
     "output_type": "execute_result"
    }
   ],
   "source": [
    "# Using Luhn algorithm. Last digit is check digit\n",
    "def credit_card_val():\n",
    "    card_num = ''\n",
    "    card_lst = []\n",
    "    card_num = input('Please insert credit card number: ')\n",
    "    for i in card_num:\n",
    "        card_lst.append(int(i))\n",
    "    print(card_lst)\n",
    "    #From the rightmost digit, which is the check digit, and moving left, double the value of every second digit.\n",
    "    #If the result of this doubling operation is greater than 9 (e.g., 8 × 2 = 16), then add the digits of the result (e.g., 16: 1 + 6 = 7, 18: 1 + 8 = 9)\n",
    "    for n in range(len(card_lst)-2,-1,-2):\n",
    "        card_lst[n] = card_lst[n]*2\n",
    "        if card_lst[n] > 9:\n",
    "            card_lst[n] -= 9\n",
    "    print(card_lst)\n",
    "    #Take the sum of all the digits.\n",
    "    #If the total modulo 10 is equal to 0 (if the total ends in zero) then the number is valid according to the Luhn formula; otherwise it is not valid.\n",
    "    return sum(card_lst)%10 == 0\n",
    "    \n",
    "credit_card_val()\n",
    "    "
   ]
  },
  {
   "cell_type": "markdown",
   "metadata": {},
   "source": [
    "Factorial Finder - The Factorial of a positive integer, n, is defined as the product of the sequence n, n-1, n-2, ...1 and the factorial of zero, 0, is defined as being 1. Solve this using both loops and recursion."
   ]
  },
  {
   "cell_type": "code",
   "execution_count": 8,
   "metadata": {},
   "outputs": [
    {
     "name": "stdout",
     "output_type": "stream",
     "text": [
      "3628800\n",
      "3628800\n"
     ]
    }
   ],
   "source": [
    "def fact(n):\n",
    "    if n == 0:\n",
    "        n = 1\n",
    "    else:\n",
    "        for x in range(n-1,0,-1):\n",
    "            n *= x\n",
    "    return n\n",
    "print(fact(10))\n",
    "        \n",
    "def fact_2(n):\n",
    "    if n == 0:\n",
    "        return 1\n",
    "    elif n == 1:\n",
    "        return 1\n",
    "    else:\n",
    "        return n*fact_2(n-1)\n",
    "print(fact_2(10))"
   ]
  },
  {
   "cell_type": "markdown",
   "metadata": {},
   "source": [
    "Complex Number Algebra - Show addition, multiplication, negation, and inversion of complex numbers in separate functions. (Subtraction and division operations can be made with pairs of these operations.) Print the results for each operation tested."
   ]
  },
  {
   "cell_type": "code",
   "execution_count": 12,
   "metadata": {},
   "outputs": [
    {
     "name": "stdout",
     "output_type": "stream",
     "text": [
      "(-2, -2)\n",
      "(0.44, -0.48)\n"
     ]
    }
   ],
   "source": [
    "def add_com(a=(0,0),b=(0,0)):\n",
    "    return (a[0]+b[0],a[1]+b[1])\n",
    "def neg_com(a):\n",
    "    return (-a[0],-a[1])\n",
    "def multi_com(a=(0,0),b=(0,0)):\n",
    "    tr = a[0]*b[0]-a[1]*b[1]\n",
    "    im = a[0]*b[1]+a[1]*b[1]\n",
    "    return(tr,im)\n",
    "def inv_com(a):\n",
    "    base = a[0]**2 + a[1]**2\n",
    "    return (a[0]/base,-a[1]/base)\n",
    "def sub_com(a,b):\n",
    "    return add_com(a,neg_com(b))\n",
    "def div_com(a,b):\n",
    "    return multi_com(a,inv_com(b))\n",
    "\n",
    "a = (1,2)\n",
    "b = (3,4)\n",
    "print(sub_com(a,b))\n",
    "print(div_com(a,b))\n",
    "    "
   ]
  },
  {
   "cell_type": "markdown",
   "metadata": {},
   "source": [
    "Happy Numbers - A happy number is defined by the following process. Starting with any positive integer, replace the number by the sum of the squares of its digits, and repeat the process until the number equals 1 (where it will stay), or it loops endlessly in a cycle which does not include 1. Those numbers for which this process ends in 1 are happy numbers, while those that do not end in 1 are unhappy numbers. Display an example of your output here. Find first 8 happy numbers."
   ]
  },
  {
   "cell_type": "code",
   "execution_count": 17,
   "metadata": {},
   "outputs": [
    {
     "data": {
      "text/plain": [
       "False"
      ]
     },
     "execution_count": 17,
     "metadata": {},
     "output_type": "execute_result"
    }
   ],
   "source": [
    "# if number repeats and 1 doesn't appear, then it is a infinite loop\n",
    "def happy_check(n):\n",
    "    replace_list = []\n",
    "    n_replace = 0\n",
    "    while n not in replace_list:\n",
    "        #replace the number by the sum of the squares of its digits\n",
    "        n_str = str(n)\n",
    "        for i in range(0,len(n_str)):\n",
    "            n_replace += int(n_str[i])**2\n",
    "        if n_replace == 1:\n",
    "            return True\n",
    "        replace_list.append(n_replace)\n",
    "        n = n_replace\n",
    "    return False\n",
    "\n",
    "count = 0\n",
    "n = 1\n",
    "while count < 8:\n",
    "    if happy_check(n) == 1:\n",
    "        print()"
   ]
  },
  {
   "cell_type": "markdown",
   "metadata": {},
   "source": [
    "Limit Calculator - Ask the user to enter f(x) and the limit value, then return the value of the limit statement Optional: Make the calculator capable of supporting infinite limits.\n",
    "\n",
    "We import sympy: Symbolic computation deals with the computation of mathematical objects symbolically. This means that the mathematical objects are represented exactly, not approximately, and mathematical expressions with unevaluated variables are left in symbolic form."
   ]
  },
  {
   "cell_type": "code",
   "execution_count": 10,
   "metadata": {},
   "outputs": [
    {
     "name": "stdout",
     "output_type": "stream",
     "text": [
      "Type in desired function2+2**x\n",
      "Type the limit. If it is infinite type \"oo\"5\n"
     ]
    },
    {
     "data": {
      "text/plain": [
       "34"
      ]
     },
     "execution_count": 10,
     "metadata": {},
     "output_type": "execute_result"
    }
   ],
   "source": [
    "from sympy import *\n",
    "\n",
    "def limit_calc():\n",
    "    x,y,z = symbols('x y z')\n",
    "    expr_str = input(\"Type in desired function\")\n",
    "    expr = sympify(expr_str)\n",
    "    limit = sympify(input('Type the limit. If it is infinite type \"oo\"'))\n",
    "    return expr.subs(x,limit)\n",
    "limit_calc()\n"
   ]
  },
  {
   "cell_type": "code",
   "execution_count": null,
   "metadata": {},
   "outputs": [],
   "source": []
  }
 ],
 "metadata": {
  "kernelspec": {
   "display_name": "Python 3",
   "language": "python",
   "name": "python3"
  },
  "language_info": {
   "codemirror_mode": {
    "name": "ipython",
    "version": 3
   },
   "file_extension": ".py",
   "mimetype": "text/x-python",
   "name": "python",
   "nbconvert_exporter": "python",
   "pygments_lexer": "ipython3",
   "version": "3.7.1"
  }
 },
 "nbformat": 4,
 "nbformat_minor": 2
}
