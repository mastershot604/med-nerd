{
 "cells": [
  {
   "cell_type": "markdown",
   "metadata": {},
   "source": [
    "# Text"
   ]
  },
  {
   "cell_type": "markdown",
   "metadata": {},
   "source": [
    "Count Words in a String - Counts the number of individual words in a string. For added complexity read these strings in from a text file and generate a summary."
   ]
  },
  {
   "cell_type": "code",
   "execution_count": 5,
   "metadata": {},
   "outputs": [
    {
     "name": "stdout",
     "output_type": "stream",
     "text": [
      "There are 8 words in test.txt\n"
     ]
    }
   ],
   "source": [
    "def count_word(file_str):\n",
    "    file_lst = file_str.split()\n",
    "    return len(file_lst)\n",
    "\n",
    "file = open('C:/Users/andyt/Desktop/Complete-Python-3-Bootcamp-master/12-Final Capstone Python Project/test.txt')\n",
    "c_word = count_word(file.read())\n",
    "print(f'There are {c_word} words in test.txt')\n",
    "file.close()"
   ]
  },
  {
   "cell_type": "markdown",
   "metadata": {},
   "source": [
    "Text Editor - Notepad style application that can open, edit, and save text documents. Optional: Add syntax highlighting and other features."
   ]
  },
  {
   "cell_type": "code",
   "execution_count": null,
   "metadata": {},
   "outputs": [],
   "source": []
  }
 ],
 "metadata": {
  "kernelspec": {
   "display_name": "Python 3",
   "language": "python",
   "name": "python3"
  },
  "language_info": {
   "codemirror_mode": {
    "name": "ipython",
    "version": 3
   },
   "file_extension": ".py",
   "mimetype": "text/x-python",
   "name": "python",
   "nbconvert_exporter": "python",
   "pygments_lexer": "ipython3",
   "version": "3.7.1"
  }
 },
 "nbformat": 4,
 "nbformat_minor": 2
}
