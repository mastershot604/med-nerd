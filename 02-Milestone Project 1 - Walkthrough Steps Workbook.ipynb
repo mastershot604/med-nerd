{
 "cells": [
  {
   "cell_type": "markdown",
   "metadata": {},
   "source": [
    "# Milestone Project 1: Walkthrough Steps Workbook\n",
    "\n",
    "Below is a set of steps for you to follow to try to create the Tic Tac Toe Milestone Project game!"
   ]
  },
  {
   "cell_type": "markdown",
   "metadata": {},
   "source": [
    "#### Some suggested tools before you get started:\n",
    "To take input from a user:\n",
    "\n",
    "    player1 = input(\"Please pick a marker 'X' or 'O'\")\n",
    "    \n",
    "Note that input() takes in a string. If you need an integer value, use\n",
    "\n",
    "    position = int(input('Please enter a number'))\n",
    "    \n",
    "<br>To clear the screen between moves:\n",
    "\n",
    "    from IPython.display import clear_output\n",
    "    clear_output()\n",
    "    \n",
    "Note that clear_output() will only work in jupyter. To clear the screen in other IDEs, consider:\n",
    "\n",
    "    print('\\n'*100)\n",
    "    \n",
    "This scrolls the previous board up out of view. Now on to the program!"
   ]
  },
  {
   "cell_type": "markdown",
   "metadata": {},
   "source": [
    "**Step 1: Write a function that can print out a board. Set up your board as a list, where each index 1-9 corresponds with a number on a number pad, so you get a 3 by 3 board representation.**"
   ]
  },
  {
   "cell_type": "code",
   "execution_count": 1,
   "metadata": {},
   "outputs": [],
   "source": [
    "from IPython.display import clear_output\n",
    "\n",
    "def display_board(board = [' ',' ',' ',' ',' ',' ',' ',' ',' ']):\n",
    "    '''\n",
    "    Docstring: prints a board and fill in given list.\n",
    "    '''\n",
    "    print(' {} | {} | {} '.format(board[0],board[1],board[2]))\n",
    "    print('---|---|---')\n",
    "    print(' {} | {} | {} '.format(board[3],board[4],board[5]))\n",
    "    print('---|---|---')\n",
    "    print(' {} | {} | {} '.format(board[6],board[7],board[8]))"
   ]
  },
  {
   "cell_type": "markdown",
   "metadata": {},
   "source": [
    "**TEST Step 1:** run your function on a test version of the board list, and make adjustments as necessary"
   ]
  },
  {
   "cell_type": "code",
   "execution_count": 2,
   "metadata": {},
   "outputs": [
    {
     "name": "stdout",
     "output_type": "stream",
     "text": [
      " # | X | O \n",
      "---|---|---\n",
      " X | O | X \n",
      "---|---|---\n",
      " O | X | O \n"
     ]
    }
   ],
   "source": [
    "test_board = ['#','X','O','X','O','X','O','X','O','X']\n",
    "display_board(test_board)"
   ]
  },
  {
   "cell_type": "markdown",
   "metadata": {},
   "source": [
    "**Step 2: Write a function that can take in a player input and assign their marker as 'X' or 'O'. Think about using *while* loops to continually ask until you get a correct answer.**"
   ]
  },
  {
   "cell_type": "code",
   "execution_count": 3,
   "metadata": {},
   "outputs": [],
   "source": [
    "def player_input(x):\n",
    "    XorO = input(f'Player {x}: Do you want to be \"X\" or \"O\"?').upper()\n",
    "    while XorO != 'X' and XorO != 'O':\n",
    "        XorO = input('Try again: Do you want to be \"X\" or \"O\"?')\n",
    "    print(f'Player {x} is assigned to {XorO}')\n",
    "    return XorO"
   ]
  },
  {
   "cell_type": "markdown",
   "metadata": {},
   "source": [
    "**TEST Step 2:** run the function to make sure it returns the desired output"
   ]
  },
  {
   "cell_type": "code",
   "execution_count": 4,
   "metadata": {},
   "outputs": [
    {
     "name": "stdout",
     "output_type": "stream",
     "text": [
      "Player 1: Do you want to be \"X\" or \"O\"?x\n",
      "Player 1 is assigned to X\n"
     ]
    },
    {
     "data": {
      "text/plain": [
       "'X'"
      ]
     },
     "execution_count": 4,
     "metadata": {},
     "output_type": "execute_result"
    }
   ],
   "source": [
    "player_input(1)"
   ]
  },
  {
   "cell_type": "markdown",
   "metadata": {},
   "source": [
    "**Step 3: Write a function that takes in the board list object, a marker ('X' or 'O'), and a desired position (number 1-9) and assigns it to the board.**"
   ]
  },
  {
   "cell_type": "code",
   "execution_count": 5,
   "metadata": {},
   "outputs": [],
   "source": [
    "def place_marker(board, marker, position):\n",
    "    board[position] = marker"
   ]
  },
  {
   "cell_type": "markdown",
   "metadata": {},
   "source": [
    "**TEST Step 3:** run the place marker function using test parameters and display the modified board"
   ]
  },
  {
   "cell_type": "code",
   "execution_count": 6,
   "metadata": {},
   "outputs": [
    {
     "name": "stdout",
     "output_type": "stream",
     "text": [
      " # | X | O \n",
      "---|---|---\n",
      " X | O | X \n",
      "---|---|---\n",
      " O | X | $ \n"
     ]
    }
   ],
   "source": [
    "place_marker(test_board,'$',8)\n",
    "display_board(test_board)"
   ]
  },
  {
   "cell_type": "markdown",
   "metadata": {},
   "source": [
    "**Step 4: Write a function that takes in a board and a mark (X or O) and then checks to see if that mark has won. **"
   ]
  },
  {
   "cell_type": "code",
   "execution_count": 7,
   "metadata": {},
   "outputs": [],
   "source": [
    "def win_check(board, mark):\n",
    "    # win conditions\n",
    "    win = [(0,1,2),(3,4,5),(6,7,8),(0,3,6),(1,4,7),(2,5,8),(0,4,8),(2,4,6)]\n",
    "    def check_row(r,m):\n",
    "        #check each row for same X or O\n",
    "        if board[r[0]]==board[r[1]]==board[r[2]]==m:\n",
    "            return True\n",
    "        else:\n",
    "            return False\n",
    "    for row in win:\n",
    "        if check_row(row,mark):\n",
    "            print(f'\"{mark}\" has won')\n",
    "            return True\n",
    "            break\n",
    "        else:\n",
    "            pass\n",
    "    else: \n",
    "        return False\n",
    "   # else:\n",
    "    #    print(f'\"{mark}\" has not win yet')\n",
    "        "
   ]
  },
  {
   "cell_type": "markdown",
   "metadata": {},
   "source": [
    "**TEST Step 4:** run the win_check function against our test_board - it should return True"
   ]
  },
  {
   "cell_type": "code",
   "execution_count": 8,
   "metadata": {},
   "outputs": [
    {
     "data": {
      "text/plain": [
       "False"
      ]
     },
     "execution_count": 8,
     "metadata": {},
     "output_type": "execute_result"
    }
   ],
   "source": [
    "win_check(test_board,'X')"
   ]
  },
  {
   "cell_type": "markdown",
   "metadata": {},
   "source": [
    "**Step 5: Write a function that uses the random module to randomly decide which player goes first. You may want to lookup random.randint() Return a string of which player went first.**"
   ]
  },
  {
   "cell_type": "code",
   "execution_count": 9,
   "metadata": {},
   "outputs": [],
   "source": [
    "import random\n",
    "\n",
    "def choose_first():\n",
    "    x = random.randint(0,1)\n",
    "    if x == 0:\n",
    "        return 'Player 1'\n",
    "    else:\n",
    "        return 'Player 2'"
   ]
  },
  {
   "cell_type": "markdown",
   "metadata": {},
   "source": [
    "**Step 6: Write a function that returns a boolean indicating whether a space on the board is freely available.**"
   ]
  },
  {
   "cell_type": "code",
   "execution_count": 10,
   "metadata": {},
   "outputs": [],
   "source": [
    "def space_check(board, position):\n",
    "    if board[position]==' ':\n",
    "        return True\n",
    "    else:\n",
    "        return False"
   ]
  },
  {
   "cell_type": "markdown",
   "metadata": {},
   "source": [
    "**Step 7: Write a function that checks if the board is full and returns a boolean value. True if full, False otherwise.**"
   ]
  },
  {
   "cell_type": "code",
   "execution_count": 11,
   "metadata": {},
   "outputs": [
    {
     "data": {
      "text/plain": [
       "True"
      ]
     },
     "execution_count": 11,
     "metadata": {},
     "output_type": "execute_result"
    }
   ],
   "source": [
    "def full_board_check(board):\n",
    "    for x in board:\n",
    "        if x == ' ':\n",
    "            return False\n",
    "    return True\n",
    "full_board_check(['X']*10)"
   ]
  },
  {
   "cell_type": "markdown",
   "metadata": {},
   "source": [
    "**Step 8: Write a function that asks for a player's next position (as a number 1-9) and then uses the function from step 6 to check if it's a free position. If it is, then return the position for later use.**"
   ]
  },
  {
   "cell_type": "code",
   "execution_count": 12,
   "metadata": {},
   "outputs": [],
   "source": [
    "def player_choice(board):\n",
    "    # Docstring: input position number, check for free position, and either return position of choice or print \"The space is occupied\"'''\n",
    "    next_pos = int(input('What is your next position?'))-1\n",
    "    while next_pos > 8:\n",
    "        next_pos = int(input('Wrong input, please insert a number from 1 - 9'))-1\n",
    "    while not space_check(board,next_pos):\n",
    "        next_pos = int(input(' The space is occupied, please insert another number'))-1\n",
    "    return next_pos"
   ]
  },
  {
   "cell_type": "markdown",
   "metadata": {},
   "source": [
    "**Step 9: Write a function that asks the player if they want to play again and returns a boolean True if they do want to play again.**"
   ]
  },
  {
   "cell_type": "code",
   "execution_count": 13,
   "metadata": {},
   "outputs": [],
   "source": [
    "def replay():\n",
    "    x = input('Do you want to replay? Enter yes or no')\n",
    "    while x != 'yes' and x != 'no':\n",
    "        x = input('Try again.')\n",
    "    if x == 'yes':\n",
    "        return True\n",
    "    else:\n",
    "        return False\n",
    "        "
   ]
  },
  {
   "cell_type": "markdown",
   "metadata": {
    "collapsed": true
   },
   "source": [
    "**Step 10: Here comes the hard part! Use while loops and the functions you've made to run the game!**"
   ]
  },
  {
   "cell_type": "code",
   "execution_count": 15,
   "metadata": {},
   "outputs": [
    {
     "name": "stdout",
     "output_type": "stream",
     "text": [
      "Welcome to Tic Tac Toe!\n",
      "Player 1: Do you want to be \"X\" or \"O\"?o\n",
      "Player 1 is assigned to O\n",
      "Player 2: Do you want to be \"X\" or \"O\"?x\n",
      "Player 2 is assigned to X\n",
      "Player 2 goes first\n",
      "Do you want to start the game? Enter \"y\" or \"n\"y\n",
      "   |   |   \n",
      "---|---|---\n",
      "   |   |   \n",
      "---|---|---\n",
      "   |   |   \n",
      "player 2:\n",
      "What is your next position?1\n",
      "['X', ' ', ' ', ' ', ' ', ' ', ' ', ' ', ' ']\n",
      " X |   |   \n",
      "---|---|---\n",
      "   |   |   \n",
      "---|---|---\n",
      "   |   |   \n",
      "player 1:\n",
      "What is your next position?2\n",
      "['X', 'O', ' ', ' ', ' ', ' ', ' ', ' ', ' ']\n",
      " X | O |   \n",
      "---|---|---\n",
      "   |   |   \n",
      "---|---|---\n",
      "   |   |   \n",
      "player 2:\n",
      "What is your next position?3\n",
      "['X', 'O', 'X', ' ', ' ', ' ', ' ', ' ', ' ']\n",
      " X | O | X \n",
      "---|---|---\n",
      "   |   |   \n",
      "---|---|---\n",
      "   |   |   \n",
      "player 1:\n",
      "What is your next position?4\n",
      "['X', 'O', 'X', 'O', ' ', ' ', ' ', ' ', ' ']\n",
      " X | O | X \n",
      "---|---|---\n",
      " O |   |   \n",
      "---|---|---\n",
      "   |   |   \n",
      "player 2:\n",
      "What is your next position?5\n",
      "['X', 'O', 'X', 'O', 'X', ' ', ' ', ' ', ' ']\n",
      " X | O | X \n",
      "---|---|---\n",
      " O | X |   \n",
      "---|---|---\n",
      "   |   |   \n",
      "player 1:\n",
      "What is your next position?6\n",
      "['X', 'O', 'X', 'O', 'X', 'O', ' ', ' ', ' ']\n",
      " X | O | X \n",
      "---|---|---\n",
      " O | X | O \n",
      "---|---|---\n",
      "   |   |   \n",
      "player 2:\n",
      "What is your next position?7\n",
      "\"X\" has won\n",
      "Player 2 wins!\n",
      " X | O | X \n",
      "---|---|---\n",
      " O | X | O \n",
      "---|---|---\n",
      " X |   |   \n",
      "Do you want to replay? Enter yes or no9\n",
      "Try again.y\n",
      "Try again.yes\n",
      "Player 1: Do you want to be \"X\" or \"O\"?x\n",
      "Player 1 is assigned to X\n",
      "Player 2: Do you want to be \"X\" or \"O\"?o\n",
      "Player 2 is assigned to O\n",
      "Player 1 goes first\n",
      "Do you want to start the game? Enter \"y\" or \"n\"y\n",
      "   |   |   \n",
      "---|---|---\n",
      "   |   |   \n",
      "---|---|---\n",
      "   |   |   \n",
      "player 1:\n",
      "What is your next position?1\n",
      "['X', ' ', ' ', ' ', ' ', ' ', ' ', ' ', ' ']\n",
      " X |   |   \n",
      "---|---|---\n",
      "   |   |   \n",
      "---|---|---\n",
      "   |   |   \n",
      "player 2:\n",
      "What is your next position?2\n",
      "['X', 'O', ' ', ' ', ' ', ' ', ' ', ' ', ' ']\n",
      " X | O |   \n",
      "---|---|---\n",
      "   |   |   \n",
      "---|---|---\n",
      "   |   |   \n",
      "player 1:\n",
      "What is your next position?3\n",
      "['X', 'O', 'X', ' ', ' ', ' ', ' ', ' ', ' ']\n",
      " X | O | X \n",
      "---|---|---\n",
      "   |   |   \n",
      "---|---|---\n",
      "   |   |   \n",
      "player 2:\n",
      "What is your next position?4\n",
      "['X', 'O', 'X', 'O', ' ', ' ', ' ', ' ', ' ']\n",
      " X | O | X \n",
      "---|---|---\n",
      " O |   |   \n",
      "---|---|---\n",
      "   |   |   \n",
      "player 1:\n",
      "What is your next position?5\n",
      "['X', 'O', 'X', 'O', 'X', ' ', ' ', ' ', ' ']\n",
      " X | O | X \n",
      "---|---|---\n",
      " O | X |   \n",
      "---|---|---\n",
      "   |   |   \n",
      "player 2:\n",
      "What is your next position?6\n",
      "['X', 'O', 'X', 'O', 'X', 'O', ' ', ' ', ' ']\n",
      " X | O | X \n",
      "---|---|---\n",
      " O | X | O \n",
      "---|---|---\n",
      "   |   |   \n",
      "player 1:\n",
      "What is your next position?8\n",
      "['X', 'O', 'X', 'O', 'X', 'O', ' ', 'X', ' ']\n",
      " X | O | X \n",
      "---|---|---\n",
      " O | X | O \n",
      "---|---|---\n",
      "   | X |   \n",
      "player 2:\n",
      "What is your next position?7\n",
      "['X', 'O', 'X', 'O', 'X', 'O', 'O', 'X', ' ']\n",
      " X | O | X \n",
      "---|---|---\n",
      " O | X | O \n",
      "---|---|---\n",
      " O | X |   \n",
      "player 1:\n",
      "What is your next position?9\n",
      "\"X\" has won\n",
      "Player 1 wins!\n",
      " X | O | X \n",
      "---|---|---\n",
      " O | X | O \n",
      "---|---|---\n",
      " O | X | X \n",
      "Do you want to replay? Enter yes or noyes\n",
      "Player 1: Do you want to be \"X\" or \"O\"?x\n",
      "Player 1 is assigned to X\n",
      "Player 2: Do you want to be \"X\" or \"O\"?o\n",
      "Player 2 is assigned to O\n",
      "Player 2 goes first\n",
      "Do you want to start the game? Enter \"y\" or \"n\"y\n",
      "   |   |   \n",
      "---|---|---\n",
      "   |   |   \n",
      "---|---|---\n",
      "   |   |   \n",
      "player 2:\n",
      "What is your next position?1\n",
      "['O', ' ', ' ', ' ', ' ', ' ', ' ', ' ', ' ']\n",
      " O |   |   \n",
      "---|---|---\n",
      "   |   |   \n",
      "---|---|---\n",
      "   |   |   \n",
      "player 1:\n",
      "What is your next position?2\n",
      "['O', 'X', ' ', ' ', ' ', ' ', ' ', ' ', ' ']\n",
      " O | X |   \n",
      "---|---|---\n",
      "   |   |   \n",
      "---|---|---\n",
      "   |   |   \n",
      "player 2:\n",
      "What is your next position?3\n",
      "['O', 'X', 'O', ' ', ' ', ' ', ' ', ' ', ' ']\n",
      " O | X | O \n",
      "---|---|---\n",
      "   |   |   \n",
      "---|---|---\n",
      "   |   |   \n",
      "player 1:\n",
      "What is your next position?4\n",
      "['O', 'X', 'O', 'X', ' ', ' ', ' ', ' ', ' ']\n",
      " O | X | O \n",
      "---|---|---\n",
      " X |   |   \n",
      "---|---|---\n",
      "   |   |   \n",
      "player 2:\n",
      "What is your next position?6\n",
      "['O', 'X', 'O', 'X', ' ', 'O', ' ', ' ', ' ']\n",
      " O | X | O \n",
      "---|---|---\n",
      " X |   | O \n",
      "---|---|---\n",
      "   |   |   \n",
      "player 1:\n",
      "What is your next position?9\n",
      "['O', 'X', 'O', 'X', ' ', 'O', ' ', ' ', 'X']\n",
      " O | X | O \n",
      "---|---|---\n",
      " X |   | O \n",
      "---|---|---\n",
      "   |   | X \n",
      "player 2:\n",
      "What is your next position?5\n",
      "['O', 'X', 'O', 'X', 'O', 'O', ' ', ' ', 'X']\n",
      " O | X | O \n",
      "---|---|---\n",
      " X | O | O \n",
      "---|---|---\n",
      "   |   | X \n",
      "player 1:\n",
      "What is your next position?7\n",
      "['O', 'X', 'O', 'X', 'O', 'O', 'X', ' ', 'X']\n",
      " O | X | O \n",
      "---|---|---\n",
      " X | O | O \n",
      "---|---|---\n",
      " X |   | X \n",
      "player 2:\n",
      "What is your next position?8\n",
      "['O', 'X', 'O', 'X', 'O', 'O', 'X', 'O', 'X']\n",
      "Tie!\n",
      " O | X | O \n",
      "---|---|---\n",
      " X | O | O \n",
      "---|---|---\n",
      " X | O | X \n",
      "Do you want to replay? Enter yes or nono\n"
     ]
    }
   ],
   "source": [
    "print('Welcome to Tic Tac Toe!')\n",
    "while True:\n",
    "    # Set the game up here\n",
    "    m1 = player_input(1)\n",
    "    m2 = player_input(2)\n",
    "    while m1 == m2:\n",
    "        print('Player 2 chose the same marker as player 1')\n",
    "        m2 = player_input(2)\n",
    "    turn = choose_first()\n",
    "    print(f'{turn} goes first')\n",
    "    theBoard = [' ']*9\n",
    "    play_game = input('Do you want to start the game? Enter \"y\" or \"n\"')\n",
    "    while play_game.lower() != 'y' and play_game.lower() != 'n':\n",
    "        play_game = input('Try again. Enter \"y\" or \"n\"')\n",
    "    if play_game.lower() == 'y':\n",
    "        game_on = True\n",
    "    else:\n",
    "        game_on = False\n",
    "    while game_on:\n",
    "    #while game_on: \n",
    "        #Player 1 Turn\n",
    "        if turn == 'Player 1':\n",
    "            display_board(theBoard)\n",
    "            print('player 1:')\n",
    "            pos1 = player_choice(theBoard)\n",
    "            place_marker(theBoard,m1,pos1)\n",
    "            if win_check(theBoard,m1):\n",
    "                print('Player 1 wins!')\n",
    "                display_board(theBoard)\n",
    "                break\n",
    "            else:\n",
    "                print(theBoard)\n",
    "                if full_board_check(theBoard) == True:\n",
    "                    print('Tie!')\n",
    "                    display_board(theBoard)\n",
    "                    break\n",
    "                else:\n",
    "                    turn = 'Player 2'\n",
    "            \n",
    "        \n",
    "        # Player2's turn.\n",
    "        else:\n",
    "            display_board(theBoard)\n",
    "            print('player 2:')\n",
    "            pos2 = player_choice(theBoard)\n",
    "            place_marker(theBoard,m2,pos2)\n",
    "            if win_check(theBoard,m2):\n",
    "                print('Player 2 wins!')\n",
    "                display_board(theBoard)\n",
    "                break\n",
    "            else:\n",
    "                print(theBoard)\n",
    "                if full_board_check(theBoard) == True:\n",
    "                    print('Tie!')\n",
    "                    display_board(theBoard)\n",
    "                    break\n",
    "                else:\n",
    "                    turn = 'Player 1'\n",
    "\n",
    "    if not replay():\n",
    "        break"
   ]
  },
  {
   "cell_type": "markdown",
   "metadata": {
    "collapsed": true
   },
   "source": [
    "## Good Job!"
   ]
  },
  {
   "cell_type": "code",
   "execution_count": null,
   "metadata": {},
   "outputs": [],
   "source": []
  }
 ],
 "metadata": {
  "kernelspec": {
   "display_name": "Python 3",
   "language": "python",
   "name": "python3"
  },
  "language_info": {
   "codemirror_mode": {
    "name": "ipython",
    "version": 3
   },
   "file_extension": ".py",
   "mimetype": "text/x-python",
   "name": "python",
   "nbconvert_exporter": "python",
   "pygments_lexer": "ipython3",
   "version": "3.7.1"
  }
 },
 "nbformat": 4,
 "nbformat_minor": 1
}
